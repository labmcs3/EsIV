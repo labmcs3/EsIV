{
 "cells": [
  {
   "cell_type": "markdown",
   "id": "55380be4",
   "metadata": {},
   "source": [
    "## Esercitazione IV: Soluzione numerica dell'equazione di Shrodinger indipendente dal tempo con il Numerov \n"
   ]
  },
  {
   "cell_type": "markdown",
   "id": "344b2946",
   "metadata": {},
   "source": [
    "Import delle moduli python rilevanti"
   ]
  },
  {
   "cell_type": "code",
   "execution_count": 1,
   "id": "01401939",
   "metadata": {},
   "outputs": [],
   "source": [
    "import matplotlib.pyplot as plt\n",
    "import numpy as np\n",
    "import math"
   ]
  },
  {
   "cell_type": "markdown",
   "id": "a309f1f2",
   "metadata": {},
   "source": [
    "La proposta di implementazione è divisa quattro step\n",
    " - Step 1 (<b>S1</b>)\n",
    " - Step 2 (<b>S2</b>)\n",
    " - Step 3 (<b>S3</b>)\n",
    " - Step 4 (<b>S4</b>)\n",
    " \n",
    "i comandi commentati (con # in prima colonna) indicano un comandi già pronti,utilizzabili quando le parti precedenti sono completate\n"
   ]
  },
  {
   "cell_type": "markdown",
   "id": "1de93e8c",
   "metadata": {},
   "source": [
    "<b>S1</b>: definire il potenziale in funzione della variabile normalizzata xi"
   ]
  },
  {
   "cell_type": "code",
   "execution_count": null,
   "id": "47068685",
   "metadata": {},
   "outputs": [],
   "source": [
    "def V(xi):\n",
    "    #....\n",
    "    return 0"
   ]
  },
  {
   "cell_type": "markdown",
   "id": "1ec5d6ca",
   "metadata": {},
   "source": [
    "<b>S1</b>: calcolo di b a partire dall'energia normalizzata eps, della coordinata normalizzata xi e dal passo h (variabile globale)"
   ]
  },
  {
   "cell_type": "code",
   "execution_count": 2,
   "id": "c287f043",
   "metadata": {},
   "outputs": [],
   "source": [
    "def b(eps,xi):\n",
    "    #....\n",
    "    return 0"
   ]
  },
  {
   "cell_type": "markdown",
   "id": "bb90b945",
   "metadata": {},
   "source": [
    " <b>S1/S2</b>: completare la funzione Numerov che riempe i valori di psi(xi) dall'indice n1 all'indice n2 (entrambi compresi)\n",
    "Schema:\n",
    "- definisco indice j in modo che (vedi sign di numpy)\n",
    "  - j=  1 se n2>n1\n",
    "  - j= -1 se n2<n1 <br>in questo modo la tripletta di indici: i, i+j,i+2*j corrisponde a:\n",
    "  - i, i+1, i+2 se j=1\n",
    "  - i, i-1, i-2 se j=-1\n",
    "- fornisco i primi due valori di psi\n",
    "- implemento Numerov (ciclo for)"
   ]
  },
  {
   "cell_type": "code",
   "execution_count": 3,
   "id": "2410c7fe",
   "metadata": {},
   "outputs": [],
   "source": [
    "def numerov(n1,n2,eps):\n",
    "    psi = np.array(xi)*0  # copio xi in psi e lo azzero\n",
    "    j   = 1               \n",
    "#   ...\n",
    "#   for i in range(...):\n",
    "#      psi[i] = ...\n",
    "    return psi"
   ]
  },
  {
   "cell_type": "markdown",
   "id": "fc60831a",
   "metadata": {},
   "source": [
    "<b>S3</b>: completare evalDerivative\n",
    "- per l'energia eps fornita dall'utente crea soluzione left e right\n",
    "- normalizza le due soluzioni in nmatch (si consiglia di normalizzare psir a psil)\n",
    "- calcola la differenza (diff) tra le derivate centrate (left e right) in match\n"
   ]
  },
  {
   "cell_type": "code",
   "execution_count": 4,
   "id": "dd132620",
   "metadata": {},
   "outputs": [],
   "source": [
    "def evalDerivative(eps):\n",
    "    global psir,psil\n",
    "    psil = numerov(0,nmatch+1,eps)\n",
    "    psir = numerov(n-1,nmatch-1,eps)\n",
    "#   ...\n",
    "#   ...\n",
    "    return diff"
   ]
  },
  {
   "cell_type": "markdown",
   "id": "b987325c",
   "metadata": {},
   "source": [
    "Metodo di bisezione (già implementato) per trovare l'energia in cui la funzione evalDerivative è nulla. Cioè l'enegia per cui  la derivata sinistra e destra coincidono "
   ]
  },
  {
   "cell_type": "code",
   "execution_count": 7,
   "id": "dae2cc09",
   "metadata": {},
   "outputs": [],
   "source": [
    "def findE(emin,emax,tol):\n",
    "    while (emax-emin>tol):\n",
    "        emed = (emin+emax)/2\n",
    "        if evalDerivative(emin)*evalDerivative(emed)<0:\n",
    "            emax = emed\n",
    "        else:\n",
    "            emin = emed\n",
    "    return (emin+emax)/2"
   ]
  },
  {
   "cell_type": "markdown",
   "id": "825617f0",
   "metadata": {},
   "source": [
    "Codice principale. L'esecuzione parte da qua:"
   ]
  },
  {
   "cell_type": "code",
   "execution_count": 8,
   "id": "81e4ee11",
   "metadata": {},
   "outputs": [],
   "source": [
    "n       = 14000\n",
    "nmatch  = 10000\n",
    "xi      = np.linspace(-7.,7,n)\n",
    "h       = xi[1]-xi[0]"
   ]
  },
  {
   "cell_type": "markdown",
   "id": "1e3d1e28",
   "metadata": {},
   "source": [
    "<b>S1</b>: verifico Numerov chiamando la funzione da sinistra a destra e la disegno"
   ]
  },
  {
   "cell_type": "code",
   "execution_count": null,
   "id": "4e93ba1d",
   "metadata": {},
   "outputs": [],
   "source": [
    "#epsilon = 0.5   # o altra energia di stato definito eps = (n+1/2)\n",
    "#psi=numerov(0,n-1,epsilon)\n",
    "#plt.plot(xi,psi)\n",
    "#plt.show()"
   ]
  },
  {
   "cell_type": "markdown",
   "id": "a72f4a48",
   "metadata": {},
   "source": [
    "<b>S2</b>: come <b>S1</b> ma verifico che funzioni anche da destra a sinistra e la disegno"
   ]
  },
  {
   "cell_type": "code",
   "execution_count": null,
   "id": "8f04303a",
   "metadata": {},
   "outputs": [],
   "source": [
    "#epsilon = 0.5   # o altra energia di stato definito eps = (n+1/2)\n",
    "#psi=numerov(n-1,0,epsilon)\n",
    "#plt.plot(xi,psi)\n",
    "#plt.show()"
   ]
  },
  {
   "cell_type": "markdown",
   "id": "a8fc6ccd",
   "metadata": {},
   "source": [
    "<b>S3</b> commentare i punti precedenti (a parte le definizioni iniziali del Main code) e:\n",
    "- completare evalDerivative \n",
    "- chiamare findE \n",
    "- fare grafico delle due funzioni "
   ]
  },
  {
   "cell_type": "code",
   "execution_count": 9,
   "id": "ce000e0f",
   "metadata": {},
   "outputs": [],
   "source": [
    "#e = findE(1.2,1.7,0.0001)\n",
    "#print(\"Energy \",e)"
   ]
  },
  {
   "cell_type": "markdown",
   "id": "e8a4c8a0",
   "metadata": {},
   "source": [
    "<b>S4</b>: disegnare la funzione d'onda completa (senza richiamare Numerov)\n",
    "- copiare psir nella parte 'vuota' di psil di modo che psil rappresenti tutta psi(x) nell'intervallo dato o, alternativamente, copiarle entrambe in una nuova psi\n",
    "- disegnare la funzione d'onda trovata"
   ]
  }
 ],
 "metadata": {
  "kernelspec": {
   "display_name": "Python 3 (ipykernel)",
   "language": "python",
   "name": "python3"
  },
  "language_info": {
   "codemirror_mode": {
    "name": "ipython",
    "version": 3
   },
   "file_extension": ".py",
   "mimetype": "text/x-python",
   "name": "python",
   "nbconvert_exporter": "python",
   "pygments_lexer": "ipython3",
   "version": "3.9.10"
  }
 },
 "nbformat": 4,
 "nbformat_minor": 5
}
